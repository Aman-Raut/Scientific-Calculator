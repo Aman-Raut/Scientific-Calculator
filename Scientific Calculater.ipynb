{
 "cells": [
  {
   "cell_type": "code",
   "execution_count": null,
   "id": "e89c5d8d-330b-4927-acbe-2ea41e4ad28e",
   "metadata": {},
   "outputs": [
    {
     "name": "stdout",
     "output_type": "stream",
     "text": [
      "Scientific Calculator Menu:\n",
      "1. Add\n",
      "2. Subtract\n",
      "3. Multiply\n",
      "4. Divide\n",
      "5. Power\n",
      "6. Square Root\n",
      "7. Exit\n"
     ]
    },
    {
     "name": "stdin",
     "output_type": "stream",
     "text": [
      "Enter choice (1-7):  1\n",
      "Enter first number:  50\n",
      "Enter second number:  20\n"
     ]
    },
    {
     "name": "stdout",
     "output_type": "stream",
     "text": [
      "Result:  70.0\n",
      "Scientific Calculator Menu:\n",
      "1. Add\n",
      "2. Subtract\n",
      "3. Multiply\n",
      "4. Divide\n",
      "5. Power\n",
      "6. Square Root\n",
      "7. Exit\n"
     ]
    }
   ],
   "source": [
    "import math\n",
    "\n",
    "def add(x, y):\n",
    "    return x + y\n",
    "\n",
    "def subtract(x, y):\n",
    "    return x - y\n",
    "\n",
    "def multiply(x, y):\n",
    "    return x * y\n",
    "\n",
    "def divide(x, y):\n",
    "    if y != 0:\n",
    "        return x / y\n",
    "    else:\n",
    "        return \"Error: Division by zero\"\n",
    "\n",
    "def power(x, y):\n",
    "    return x ** y\n",
    "\n",
    "def square_root(x):\n",
    "    if x >= 0:\n",
    "        return math.sqrt(x)\n",
    "    else:\n",
    "        return \"Error: Cannot find square root of a negative number\"\n",
    "\n",
    "while True:\n",
    "    print(\"Scientific Calculator Menu:\")\n",
    "    print(\"1. Add\")\n",
    "    print(\"2. Subtract\")\n",
    "    print(\"3. Multiply\")\n",
    "    print(\"4. Divide\")\n",
    "    print(\"5. Power\")\n",
    "    print(\"6. Square Root\")\n",
    "    print(\"7. Exit\")\n",
    "\n",
    "    choice = input(\"Enter choice (1-7): \")\n",
    "\n",
    "    if choice == '7':\n",
    "        print(\"Exiting the calculator. Goodbye!\")\n",
    "        break\n",
    "\n",
    "    if choice in ('1', '2', '3', '4', '5', '6'):\n",
    "        if choice in ('1', '2', '3', '4', '5'):\n",
    "            x = float(input(\"Enter first number: \"))\n",
    "            y = float(input(\"Enter second number: \"))\n",
    "        else:\n",
    "            x = float(input(\"Enter a number: \"))\n",
    "\n",
    "        if choice == '1':\n",
    "            result = add(x, y)\n",
    "        elif choice == '2':\n",
    "            result = subtract(x, y)\n",
    "        elif choice == '3':\n",
    "            result = multiply(x, y)\n",
    "        elif choice == '4':\n",
    "            result = divide(x, y)\n",
    "        elif choice == '5':\n",
    "            result = power(x, y)\n",
    "        elif choice == '6':\n",
    "            result = square_root(x)\n",
    "\n",
    "        print(\"Result: \", result)\n",
    "\n",
    "    else:\n",
    "        print(\"Invalid input. Please enter a number between 1 and 7.\")\n"
   ]
  }
 ],
 "metadata": {
  "kernelspec": {
   "display_name": "Python 3 (ipykernel)",
   "language": "python",
   "name": "python3"
  },
  "language_info": {
   "codemirror_mode": {
    "name": "ipython",
    "version": 3
   },
   "file_extension": ".py",
   "mimetype": "text/x-python",
   "name": "python",
   "nbconvert_exporter": "python",
   "pygments_lexer": "ipython3",
   "version": "3.12.1"
  }
 },
 "nbformat": 4,
 "nbformat_minor": 5
}
